{
  "nbformat": 4,
  "nbformat_minor": 0,
  "metadata": {
    "colab": {
      "provenance": [],
      "gpuType": "T4"
    },
    "kernelspec": {
      "name": "python3",
      "display_name": "Python 3"
    },
    "language_info": {
      "name": "python"
    },
    "accelerator": "GPU"
  },
  "cells": [
    {
      "cell_type": "code",
      "execution_count": 1,
      "metadata": {
        "colab": {
          "base_uri": "https://localhost:8080/"
        },
        "id": "gnWlFoW5FH3l",
        "outputId": "b651d288-2e25-4a6f-f405-6697a0556510"
      },
      "outputs": [
        {
          "output_type": "stream",
          "name": "stdout",
          "text": [
            "Collecting ffmpeg-python\n",
            "  Downloading ffmpeg_python-0.2.0-py3-none-any.whl.metadata (1.7 kB)\n",
            "Requirement already satisfied: future in /usr/local/lib/python3.10/dist-packages (from ffmpeg-python) (1.0.0)\n",
            "Downloading ffmpeg_python-0.2.0-py3-none-any.whl (25 kB)\n",
            "Installing collected packages: ffmpeg-python\n",
            "Successfully installed ffmpeg-python-0.2.0\n",
            "Collecting git+https://github.com/openai/whisper.git\n",
            "  Cloning https://github.com/openai/whisper.git to /tmp/pip-req-build-0h03vk_e\n",
            "  Running command git clone --filter=blob:none --quiet https://github.com/openai/whisper.git /tmp/pip-req-build-0h03vk_e\n",
            "  Resolved https://github.com/openai/whisper.git to commit 25639fc17ddc013d56c594bfbf7644f2185fad84\n",
            "  Installing build dependencies ... \u001b[?25l\u001b[?25hdone\n",
            "  Getting requirements to build wheel ... \u001b[?25l\u001b[?25hdone\n",
            "  Preparing metadata (pyproject.toml) ... \u001b[?25l\u001b[?25hdone\n",
            "Requirement already satisfied: numba in /usr/local/lib/python3.10/dist-packages (from openai-whisper==20240930) (0.60.0)\n",
            "Requirement already satisfied: numpy in /usr/local/lib/python3.10/dist-packages (from openai-whisper==20240930) (1.26.4)\n",
            "Requirement already satisfied: torch in /usr/local/lib/python3.10/dist-packages (from openai-whisper==20240930) (2.4.1+cu121)\n",
            "Requirement already satisfied: tqdm in /usr/local/lib/python3.10/dist-packages (from openai-whisper==20240930) (4.66.5)\n",
            "Requirement already satisfied: more-itertools in /usr/local/lib/python3.10/dist-packages (from openai-whisper==20240930) (10.5.0)\n",
            "Collecting tiktoken (from openai-whisper==20240930)\n",
            "  Downloading tiktoken-0.8.0-cp310-cp310-manylinux_2_17_x86_64.manylinux2014_x86_64.whl.metadata (6.6 kB)\n",
            "Collecting triton>=2.0.0 (from openai-whisper==20240930)\n",
            "  Downloading triton-3.0.0-1-cp310-cp310-manylinux2014_x86_64.manylinux_2_17_x86_64.whl.metadata (1.3 kB)\n",
            "Requirement already satisfied: filelock in /usr/local/lib/python3.10/dist-packages (from triton>=2.0.0->openai-whisper==20240930) (3.16.1)\n",
            "Requirement already satisfied: llvmlite<0.44,>=0.43.0dev0 in /usr/local/lib/python3.10/dist-packages (from numba->openai-whisper==20240930) (0.43.0)\n",
            "Requirement already satisfied: regex>=2022.1.18 in /usr/local/lib/python3.10/dist-packages (from tiktoken->openai-whisper==20240930) (2024.9.11)\n",
            "Requirement already satisfied: requests>=2.26.0 in /usr/local/lib/python3.10/dist-packages (from tiktoken->openai-whisper==20240930) (2.32.3)\n",
            "Requirement already satisfied: typing-extensions>=4.8.0 in /usr/local/lib/python3.10/dist-packages (from torch->openai-whisper==20240930) (4.12.2)\n",
            "Requirement already satisfied: sympy in /usr/local/lib/python3.10/dist-packages (from torch->openai-whisper==20240930) (1.13.3)\n",
            "Requirement already satisfied: networkx in /usr/local/lib/python3.10/dist-packages (from torch->openai-whisper==20240930) (3.3)\n",
            "Requirement already satisfied: jinja2 in /usr/local/lib/python3.10/dist-packages (from torch->openai-whisper==20240930) (3.1.4)\n",
            "Requirement already satisfied: fsspec in /usr/local/lib/python3.10/dist-packages (from torch->openai-whisper==20240930) (2024.6.1)\n",
            "Requirement already satisfied: charset-normalizer<4,>=2 in /usr/local/lib/python3.10/dist-packages (from requests>=2.26.0->tiktoken->openai-whisper==20240930) (3.3.2)\n",
            "Requirement already satisfied: idna<4,>=2.5 in /usr/local/lib/python3.10/dist-packages (from requests>=2.26.0->tiktoken->openai-whisper==20240930) (3.10)\n",
            "Requirement already satisfied: urllib3<3,>=1.21.1 in /usr/local/lib/python3.10/dist-packages (from requests>=2.26.0->tiktoken->openai-whisper==20240930) (2.2.3)\n",
            "Requirement already satisfied: certifi>=2017.4.17 in /usr/local/lib/python3.10/dist-packages (from requests>=2.26.0->tiktoken->openai-whisper==20240930) (2024.8.30)\n",
            "Requirement already satisfied: MarkupSafe>=2.0 in /usr/local/lib/python3.10/dist-packages (from jinja2->torch->openai-whisper==20240930) (2.1.5)\n",
            "Requirement already satisfied: mpmath<1.4,>=1.1.0 in /usr/local/lib/python3.10/dist-packages (from sympy->torch->openai-whisper==20240930) (1.3.0)\n",
            "Downloading triton-3.0.0-1-cp310-cp310-manylinux2014_x86_64.manylinux_2_17_x86_64.whl (209.4 MB)\n",
            "\u001b[2K   \u001b[90m━━━━━━━━━━━━━━━━━━━━━━━━━━━━━━━━━━━━━━━━\u001b[0m \u001b[32m209.4/209.4 MB\u001b[0m \u001b[31m6.0 MB/s\u001b[0m eta \u001b[36m0:00:00\u001b[0m\n",
            "\u001b[?25hDownloading tiktoken-0.8.0-cp310-cp310-manylinux_2_17_x86_64.manylinux2014_x86_64.whl (1.2 MB)\n",
            "\u001b[2K   \u001b[90m━━━━━━━━━━━━━━━━━━━━━━━━━━━━━━━━━━━━━━━━\u001b[0m \u001b[32m1.2/1.2 MB\u001b[0m \u001b[31m50.9 MB/s\u001b[0m eta \u001b[36m0:00:00\u001b[0m\n",
            "\u001b[?25hBuilding wheels for collected packages: openai-whisper\n",
            "  Building wheel for openai-whisper (pyproject.toml) ... \u001b[?25l\u001b[?25hdone\n",
            "  Created wheel for openai-whisper: filename=openai_whisper-20240930-py3-none-any.whl size=803321 sha256=8e91a6802904987814a7413d6b52a6cc904c0fbd49100e707605e3427cd82bd2\n",
            "  Stored in directory: /tmp/pip-ephem-wheel-cache-3ju41w3t/wheels/8b/6c/d0/622666868c179f156cf595c8b6f06f88bc5d80c4b31dccaa03\n",
            "Successfully built openai-whisper\n",
            "Installing collected packages: triton, tiktoken, openai-whisper\n",
            "Successfully installed openai-whisper-20240930 tiktoken-0.8.0 triton-3.0.0\n",
            "Requirement already satisfied: torch in /usr/local/lib/python3.10/dist-packages (2.4.1+cu121)\n",
            "Requirement already satisfied: filelock in /usr/local/lib/python3.10/dist-packages (from torch) (3.16.1)\n",
            "Requirement already satisfied: typing-extensions>=4.8.0 in /usr/local/lib/python3.10/dist-packages (from torch) (4.12.2)\n",
            "Requirement already satisfied: sympy in /usr/local/lib/python3.10/dist-packages (from torch) (1.13.3)\n",
            "Requirement already satisfied: networkx in /usr/local/lib/python3.10/dist-packages (from torch) (3.3)\n",
            "Requirement already satisfied: jinja2 in /usr/local/lib/python3.10/dist-packages (from torch) (3.1.4)\n",
            "Requirement already satisfied: fsspec in /usr/local/lib/python3.10/dist-packages (from torch) (2024.6.1)\n",
            "Requirement already satisfied: MarkupSafe>=2.0 in /usr/local/lib/python3.10/dist-packages (from jinja2->torch) (2.1.5)\n",
            "Requirement already satisfied: mpmath<1.4,>=1.1.0 in /usr/local/lib/python3.10/dist-packages (from sympy->torch) (1.3.0)\n"
          ]
        },
        {
          "output_type": "stream",
          "name": "stderr",
          "text": [
            "100%|████████████████████████████████████████| 139M/139M [00:01<00:00, 115MiB/s]\n",
            "/usr/local/lib/python3.10/dist-packages/whisper/__init__.py:150: FutureWarning: You are using `torch.load` with `weights_only=False` (the current default value), which uses the default pickle module implicitly. It is possible to construct malicious pickle data which will execute arbitrary code during unpickling (See https://github.com/pytorch/pytorch/blob/main/SECURITY.md#untrusted-models for more details). In a future release, the default value for `weights_only` will be flipped to `True`. This limits the functions that could be executed during unpickling. Arbitrary objects will no longer be allowed to be loaded via this mode unless they are explicitly allowlisted by the user via `torch.serialization.add_safe_globals`. We recommend you start setting `weights_only=True` for any use case where you don't have full control of the loaded file. Please open an issue on GitHub for any issues related to this experimental feature.\n",
            "  checkpoint = torch.load(fp, map_location=device)\n"
          ]
        },
        {
          "output_type": "stream",
          "name": "stdout",
          "text": [
            "Transcribing: videoplayback (4).mp4\n",
            "Saved transcription for videoplayback (4).mp4 to /content/drive/MyDrive/Ted Talks/videoplayback (4).txt\n",
            "Transcribing: videoplayback (3).mp4\n",
            "Saved transcription for videoplayback (3).mp4 to /content/drive/MyDrive/Ted Talks/videoplayback (3).txt\n",
            "Transcribing: Is AI the most important technology of the century_.mp4\n",
            "Saved transcription for Is AI the most important technology of the century_.mp4 to /content/drive/MyDrive/Ted Talks/Is AI the most important technology of the century_.txt\n",
            "Transcribing: A one minute TEDx Talk for the digital age _ Woody Roseland _ TEDxMileHigh.mp4\n",
            "Saved transcription for A one minute TEDx Talk for the digital age _ Woody Roseland _ TEDxMileHigh.mp4 to /content/drive/MyDrive/Ted Talks/A one minute TEDx Talk for the digital age _ Woody Roseland _ TEDxMileHigh.txt\n",
            "Transcribing: videoplayback (2).mp4\n",
            "Saved transcription for videoplayback (2).mp4 to /content/drive/MyDrive/Ted Talks/videoplayback (2).txt\n",
            "Transcribing: The Future of Law_ AI Powered Justice_ _ Robert Mahari _ TEDxBoston.mp4\n",
            "Saved transcription for The Future of Law_ AI Powered Justice_ _ Robert Mahari _ TEDxBoston.mp4 to /content/drive/MyDrive/Ted Talks/The Future of Law_ AI Powered Justice_ _ Robert Mahari _ TEDxBoston.txt\n",
            "Transcribing: videoplayback (5).mp4\n",
            "Saved transcription for videoplayback (5).mp4 to /content/drive/MyDrive/Ted Talks/videoplayback (5).txt\n",
            "Transcribing: videoplayback.mp4\n",
            "Saved transcription for videoplayback.mp4 to /content/drive/MyDrive/Ted Talks/videoplayback.txt\n",
            "Transcribing: videoplayback (1).mp4\n",
            "Saved transcription for videoplayback (1).mp4 to /content/drive/MyDrive/Ted Talks/videoplayback (1).txt\n",
            "Transcribing: How AI Could Empower Any Business _ Andrew Ng _ TED.mp4\n",
            "Saved transcription for How AI Could Empower Any Business _ Andrew Ng _ TED.mp4 to /content/drive/MyDrive/Ted Talks/How AI Could Empower Any Business _ Andrew Ng _ TED.txt\n"
          ]
        }
      ],
      "source": [
        "# Step 1: Install dependencies\n",
        "!pip install ffmpeg-python\n",
        "!pip install git+https://github.com/openai/whisper.git\n",
        "!pip install torch\n",
        "\n",
        "# Step 2: Mount Google Drive to access videos\n",
        "# from google.colab import drive\n",
        "# drive.mount('/content/drive')\n",
        "\n",
        "# Step 3: Import necessary libraries\n",
        "import whisper\n",
        "import os\n",
        "import ffmpeg\n",
        "\n",
        "# Load the Whisper model (use 'base', 'small', 'medium', or 'large' as per your choice)\n",
        "model = whisper.load_model(\"base\")\n",
        "\n",
        "# Step 4: Define the path to your video folder in Google Drive\n",
        "video_folder_path = '/content/drive/MyDrive/Ted Talks'  # Change this to your actual folder path\n",
        "\n",
        "# Step 5: Convert videos to audio and transcribe them\n",
        "def transcribe_video(video_path):\n",
        "    # Extract audio from the video using ffmpeg\n",
        "    audio_path = video_path.replace('.mp4', '.wav')\n",
        "    (\n",
        "        ffmpeg\n",
        "        .input(video_path)\n",
        "        .output(audio_path, format='wav')\n",
        "        .run(overwrite_output=True)\n",
        "    )\n",
        "\n",
        "    # Use Whisper to transcribe the audio\n",
        "    result = model.transcribe(audio_path)\n",
        "    return result['text']\n",
        "\n",
        "# Step 6: Process each video in the folder\n",
        "for video_file in os.listdir(video_folder_path):\n",
        "    if video_file.endswith('.mp4'):  # Add other formats if needed\n",
        "        video_path = os.path.join(video_folder_path, video_file)\n",
        "        print(f\"Transcribing: {video_file}\")\n",
        "        transcription = transcribe_video(video_path)\n",
        "\n",
        "        # Save transcription to a text file\n",
        "        text_file_path = video_path.replace('.mp4', '.txt')\n",
        "        with open(text_file_path, 'w') as text_file:\n",
        "            text_file.write(transcription)\n",
        "        print(f\"Saved transcription for {video_file} to {text_file_path}\")\n"
      ]
    },
    {
      "cell_type": "code",
      "source": [],
      "metadata": {
        "id": "EZv6a5poI6F0"
      },
      "execution_count": null,
      "outputs": []
    }
  ]
}